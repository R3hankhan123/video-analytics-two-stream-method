{
 "cells": [
  {
   "cell_type": "code",
   "execution_count": 1,
   "metadata": {},
   "outputs": [],
   "source": [
    "import cv2\n",
    "import numpy as np\n",
    "import os\n",
    "import matplotlib.pyplot as plt\n",
    "import seaborn as sns\n",
    "from tqdm.notebook import tqdm"
   ]
  },
  {
   "cell_type": "code",
   "execution_count": 2,
   "metadata": {},
   "outputs": [],
   "source": [
    "folder_path = \"D:\\\\violence\"\n",
    "files = os.listdir(folder_path)\n",
    "mp4_files = [f for f in files if f.endswith(\".mp4\")]\n",
    "mp4_file_paths = [os.path.join(folder_path, f) for f in mp4_files]"
   ]
  },
  {
   "cell_type": "code",
   "execution_count": 9,
   "metadata": {},
   "outputs": [],
   "source": [
    "folder_path_nv = \"D:\\\\non voilence\"\n",
    "files_nv = os.listdir(folder_path_nv)\n",
    "mp4_files_nv = [f for f in files_nv if f.endswith(\".mp4\")]\n",
    "mp4_file_paths_nv = [os.path.join(folder_path_nv, f) for f in mp4_files_nv]"
   ]
  },
  {
   "cell_type": "code",
   "execution_count": 3,
   "metadata": {},
   "outputs": [],
   "source": [
    "def vid_to_numpy(video_path,array_rgb,array_flow):\n",
    "    cap = cv2.VideoCapture(video_path)\n",
    "    ret, frame1 = cap.read()\n",
    "    prvs = cv2.cvtColor(frame1,cv2.COLOR_BGR2GRAY)\n",
    "    hsv = np.zeros_like(frame1)\n",
    "    hsv[...,1] = 255\n",
    "\n",
    "    # Calculate dense optical flow for each frame in the video\n",
    "    while True:\n",
    "        ret, frame2 = cap.read()\n",
    "        if not ret:\n",
    "            break\n",
    "        next = cv2.cvtColor(frame2,cv2.COLOR_BGR2GRAY)\n",
    "\n",
    "        # Calculate the dense optical flow\n",
    "        flow = cv2.calcOpticalFlowFarneback(prvs, next, None, 0.5, 3, 15, 3, 5, 1.2, 0)\n",
    "\n",
    "     # Visualize the dense optical flow\n",
    "        mag, ang = cv2.cartToPolar(flow[...,0], flow[...,1])\n",
    "        hsv[...,0] = ang*180/np.pi/2\n",
    "        hsv[...,2] = cv2.normalize(mag,None,0,255,cv2.NORM_MINMAX)\n",
    "        bgr = cv2.cvtColor(hsv,cv2.COLOR_HSV2BGR)\n",
    "\n",
    "        # Display the frame with dense optical flow\n",
    "        #cv2.imshow(\"Optical Flow\", bgr)\n",
    "        #cv2.imshow('RGB', frame2)\n",
    "        array_rgb.append(np.array(frame2))\n",
    "        array_flow.append(np.array(bgr))\n",
    "        # Break the loop if the user presses the 'q' key\n",
    "        if cv2.waitKey(1) & 0xFF == ord('q'):\n",
    "            break\n",
    "\n",
    "    # Set the previous frame to the current frame\n",
    "        prvs = next\n",
    "    cap.release()\n",
    "    cv2.destroyAllWindows()"
   ]
  },
  {
   "cell_type": "code",
   "execution_count": 11,
   "metadata": {},
   "outputs": [],
   "source": [
    "def max_mag(video_path):\n",
    "    cap = cv2.VideoCapture(video_path)\n",
    "    frames=[]\n",
    "    ret, frame1 = cap.read()\n",
    "    prvs = cv2.cvtColor(frame1,cv2.COLOR_BGR2GRAY)\n",
    "    hsv = np.zeros_like(frame1)\n",
    "    hsv[...,1] = 255\n",
    "\n",
    "    # Calculate dense optical flow for each frame in the video\n",
    "    while True:\n",
    "        ret, frame2 = cap.read()\n",
    "        if not ret:\n",
    "            break\n",
    "        next = cv2.cvtColor(frame2,cv2.COLOR_BGR2GRAY)\n",
    "\n",
    "        # Calculate the dense optical flow\n",
    "        flow = cv2.calcOpticalFlowFarneback(prvs, next, None, 0.5, 3, 15, 3, 5, 1.2, 0)\n",
    "\n",
    "     # Visualize the dense optical flow\n",
    "        mag, ang = cv2.cartToPolar(flow[...,0], flow[...,1])\n",
    "        hsv[...,0] = ang*180/np.pi/2\n",
    "        hsv[...,2] = cv2.normalize(mag,None,0,255,cv2.NORM_MINMAX)\n",
    "        bgr = cv2.cvtColor(hsv,cv2.COLOR_HSV2BGR)\n",
    "\n",
    "        # Display the frame with dense optical flow\n",
    "        cv2.imshow(\"Optical Flow\", bgr)\n",
    "        cv2.imshow('RGB', frame2)\n",
    "        frames.append(bgr)\n",
    "\n",
    "        # Break the loop if the user presses the 'q' key\n",
    "        if cv2.waitKey(1) & 0xFF == ord('q'):\n",
    "            break\n",
    "\n",
    "    # Set the previous frame to the current frame\n",
    "        prvs = next\n",
    "    cap.release()\n",
    "    cv2.destroyAllWindows()\n",
    "    max_value=[]\n",
    "    for i in range(0,len(frames)):\n",
    "        max_value.append(np.linalg.norm(frames[i]))\n",
    "    \n",
    "    x=max(max_value)\n",
    "    return x"
   ]
  },
  {
   "cell_type": "code",
   "execution_count": 12,
   "metadata": {},
   "outputs": [
    {
     "data": {
      "application/json": {
       "ascii": false,
       "bar_format": null,
       "colour": null,
       "elapsed": 0.02052164077758789,
       "initial": 0,
       "n": 0,
       "ncols": null,
       "nrows": null,
       "postfix": null,
       "prefix": "",
       "rate": null,
       "total": 1320,
       "unit": "it",
       "unit_divisor": 1000,
       "unit_scale": false
      },
      "application/vnd.jupyter.widget-view+json": {
       "model_id": "73e77c1f4a394789a3c06486fb7482b1",
       "version_major": 2,
       "version_minor": 0
      },
      "text/plain": [
       "  0%|          | 0/1320 [00:00<?, ?it/s]"
      ]
     },
     "metadata": {},
     "output_type": "display_data"
    }
   ],
   "source": [
    "magnitude_voilence=[]\n",
    "for i in tqdm(range(0,len(mp4_file_paths))): \n",
    "    x=max_mag(mp4_file_paths[i])\n",
    "    magnitude_voilence.append(x)"
   ]
  },
  {
   "cell_type": "code",
   "execution_count": 13,
   "metadata": {},
   "outputs": [
    {
     "data": {
      "application/json": {
       "ascii": false,
       "bar_format": null,
       "colour": null,
       "elapsed": 0.020006656646728516,
       "initial": 0,
       "n": 0,
       "ncols": null,
       "nrows": null,
       "postfix": null,
       "prefix": "",
       "rate": null,
       "total": 3043,
       "unit": "it",
       "unit_divisor": 1000,
       "unit_scale": false
      },
      "application/vnd.jupyter.widget-view+json": {
       "model_id": "75d6bff764464737aebb7ef6496903d9",
       "version_major": 2,
       "version_minor": 0
      },
      "text/plain": [
       "  0%|          | 0/3043 [00:00<?, ?it/s]"
      ]
     },
     "metadata": {},
     "output_type": "display_data"
    }
   ],
   "source": [
    "magnitude_non=[]\n",
    "for i in tqdm(range(0,len(mp4_file_paths_nv))): \n",
    "    x=max_mag(mp4_file_paths_nv[i])\n",
    "    magnitude_non.append(x)"
   ]
  },
  {
   "cell_type": "code",
   "execution_count": 14,
   "metadata": {},
   "outputs": [
    {
     "data": {
      "image/png": "[encoded data removed]",
      "text/plain": [
       "<Figure size 576x432 with 1 Axes>"
      ]
     },
     "metadata": {
      "needs_background": "light"
     },
     "output_type": "display_data"
    }
   ],
   "source": [
    "plt.figure(figsize=(8,6))\n",
    "plt.hist(magnitude_voilence, bins=100, alpha=0.5, label=\"Violence\")\n",
    "plt.hist(magnitude_non, bins=100, alpha=0.5, label=\"Non Violence\")\n",
    "plt.title(\"Violence vs Non violence\")\n",
    "plt.legend(loc='upper right')\n",
    "plt.show()"
   ]
  },
  {
   "cell_type": "code",
   "execution_count": 15,
   "metadata": {},
   "outputs": [],
   "source": [
    "magnitude_non_np=np.array(magnitude_non)\n",
    "magnitude_voilence_np=np.array(magnitude_voilence)\n",
    "#save the magnitude of non violence and violence videos\n",
    "np.save(\"magnitude_non_2\",magnitude_non_np)\n",
    "np.save(\"magnitude_voilence_2\",magnitude_voilence_np)"
   ]
  },
  {
   "cell_type": "code",
   "execution_count": 16,
   "metadata": {},
   "outputs": [
    {
     "data": {
      "image/png": "[encoded data removed]",
      "text/plain": [
       "<Figure size 576x432 with 1 Axes>"
      ]
     },
     "metadata": {
      "needs_background": "light"
     },
     "output_type": "display_data"
    }
   ],
   "source": [
    "#plot the magnitude_non and magnitude_voilence in a gaussian distribution\n",
    "from scipy.optimize import curve_fit\n",
    "from scipy.stats import norm\n",
    "\n",
    "(mu, sigma)=norm.fit(magnitude_non_np)\n",
    "x = np.linspace(magnitude_non_np.min(), magnitude_non_np.max(), 100)\n",
    "hist, bins = np.histogram(magnitude_non_np, bins=100, density=True)\n",
    "pdf = norm.pdf(x, mu, sigma)\n",
    "pdf_scaled = pdf * np.sum(np.diff(np.histogram(magnitude_non_np, bins=100, density=True)[1]) * np.histogram(magnitude_non_np, bins=100, density=True)[0])\n",
    "#plot\n",
    "plt.figure(figsize=(8,6))\n",
    "plt.plot(x, pdf_scaled, 'r-', linewidth=2)\n",
    "plt.hist(magnitude_non_np, bins=100, density=True, alpha=0.5, label=\"Non Violence\",facecolor='b')\n",
    "plt.xlabel('magnitude')\n",
    "plt.ylabel('count')\n",
    "plt.title(r'$\\mathrm{Histogram\\ of\\ Non Violence:}\\ \\mu=%.3f,\\ \\sigma=%.3f$' %(mu, sigma))\n",
    "plt.grid(True)\n",
    "\n",
    "plt.show()"
   ]
  },
  {
   "cell_type": "code",
   "execution_count": 17,
   "metadata": {},
   "outputs": [
    {
     "data": {
      "image/png": "[encoded data removed]",
      "text/plain": [
       "<Figure size 576x432 with 1 Axes>"
      ]
     },
     "metadata": {
      "needs_background": "light"
     },
     "output_type": "display_data"
    }
   ],
   "source": [
    "(mu, sigma)=norm.fit(magnitude_voilence_np)\n",
    "z = np.linspace(magnitude_voilence_np.min(), magnitude_voilence_np.max(), 100)\n",
    "hist, bins = np.histogram(magnitude_voilence_np, bins=100, density=True)\n",
    "pdf = norm.pdf(x, mu, sigma)\n",
    "pdf_scaled_1 = pdf * np.sum(np.diff(np.histogram(magnitude_voilence_np, bins=100, density=True)[1]) * np.histogram(magnitude_voilence_np, bins=100, density=True)[0])\n",
    "#plot\n",
    "plt.figure(figsize=(8,6))\n",
    "plt.plot(z, pdf_scaled, 'r-', linewidth=2)\n",
    "plt.hist(magnitude_voilence_np, bins=100, density=True, alpha=0.5, label=\"Violence\",facecolor='g')\n",
    "plt.xlabel('magnitude')\n",
    "plt.ylabel('Count')\n",
    "plt.title(r'$\\mathrm{Histogram\\ of\\ Violence:}\\ \\mu=%.3f,\\ \\sigma=%.3f$' %(mu, sigma))\n",
    "plt.grid(True)\n",
    "\n"
   ]
  },
  {
   "cell_type": "code",
   "execution_count": 18,
   "metadata": {},
   "outputs": [],
   "source": [
    "#load the magnitude of non violence and violence npy files\n",
    "magnitude_non=np.load(\"magnitude_non_2.npy\")\n",
    "magnitude_voilence=np.load(\"magnitude_voilence_2.npy\")"
   ]
  },
  {
   "cell_type": "code",
   "execution_count": 19,
   "metadata": {},
   "outputs": [
    {
     "data": {
      "image/png": "[encoded data removed]",
      "text/plain": [
       "<Figure size 576x432 with 1 Axes>"
      ]
     },
     "metadata": {
      "needs_background": "light"
     },
     "output_type": "display_data"
    }
   ],
   "source": [
    "from scipy.stats import norm\n",
    "(mu1, sigma1)=norm.fit(magnitude_non)\n",
    "(mu2, sigma2)=norm.fit(magnitude_voilence)\n",
    "hist1, bins1 = np.histogram(magnitude_non, bins=100, density=True)\n",
    "hist2, bins2 = np.histogram(magnitude_voilence, bins=100, density=True)\n",
    "x1 = np.linspace(magnitude_non.min(), magnitude_non.max(), 100)\n",
    "x2 = np.linspace(magnitude_voilence.min(), magnitude_voilence.max(), 100)\n",
    "pdf1 = norm.pdf(x1, mu1, sigma1)\n",
    "pdf2 = norm.pdf(x2, mu2, sigma2)\n",
    "pdf_scaled_1 = pdf1 * np.sum(np.diff(np.histogram(magnitude_non, bins=100, density=True)[1]) * np.histogram(magnitude_non, bins=100, density=True)[0])\n",
    "pdf_scaled_2 = pdf2 * np.sum(np.diff(np.histogram(magnitude_voilence, bins=100, density=True)[1]) * np.histogram(magnitude_voilence, bins=100, density=True)[0])\n",
    "#plot\n",
    "plt.figure(figsize=(8,6))\n",
    "plt.plot(x1, pdf_scaled_1, 'r-', linewidth=2, label=\"Non Violence\")\n",
    "plt.plot(x2, pdf_scaled_2, 'b-', linewidth=2, label=\"Violence\")\n",
    "plt.legend(loc='upper right')\n",
    "\n",
    "plt.show()"
   ]
  },
  {
   "cell_type": "code",
   "execution_count": 4,
   "metadata": {},
   "outputs": [
    {
     "data": {
      "application/json": {
       "ascii": false,
       "bar_format": null,
       "colour": null,
       "elapsed": 0.015096187591552734,
       "initial": 0,
       "n": 0,
       "ncols": null,
       "nrows": null,
       "postfix": null,
       "prefix": "",
       "rate": null,
       "total": 1320,
       "unit": "it",
       "unit_divisor": 1000,
       "unit_scale": false
      },
      "application/vnd.jupyter.widget-view+json": {
       "model_id": "4379ee0daacb4141ab4339a4ffbb9d05",
       "version_major": 2,
       "version_minor": 0
      },
      "text/plain": [
       "  0%|          | 0/1320 [00:00<?, ?it/s]"
      ]
     },
     "metadata": {},
     "output_type": "display_data"
    }
   ],
   "source": [
    "\n",
    "violence_array_rgb=[]\n",
    "violence_array_flow=[]\n",
    "for i in tqdm(range(0,len(mp4_file_paths))):\n",
    "    vid_to_numpy(mp4_file_paths[i],violence_array_rgb,violence_array_flow)\n",
    "violence_array_rgb_np=np.array(violence_array_rgb)\n",
    "violence_array_flow_np=np.array(violence_array_flow)\n",
    "np.save(\"violence_array_rgb_np.npy\",violence_array_rgb_np)\n",
    "np.save(\"violence_array_flow_np.npy\",violence_array_flow_np)\n"
   ]
  },
  {
   "cell_type": "code",
   "execution_count": null,
   "metadata": {},
   "outputs": [],
   "source": [
    "non_violence_array_rgb=[]\n",
    "non_violence_array_flow=[]\n",
    "for i in tqdm(range(0,len(mp4_file_paths_nv))):\n",
    "    vid_to_numpy(mp4_file_paths_nv[i],non_violence_array_rgb,non_violence_array_flow)\n",
    "non_violence_array_rgb_np=np.array(non_violence_array_rgb)\n",
    "non_violence_array_flow_np=np.array(non_violence_array_flow)\n",
    "np.save(\"non_violence_array_rgb_np.npy\",non_violence_array_rgb_np)\n",
    "np.save(\"non_violence_array_flow_np.npy\",non_violence_array_flow_np)"
   ]
  },
  {
   "cell_type": "code",
   "execution_count": null,
   "metadata": {},
   "outputs": [],
   "source": [
    "figure,axis = plt.subplots(5,5,figsize=(12,12))\n",
    "\n",
    "for i,ax in enumerate(axis.flat):\n",
    "    \n",
    "    Img_Pick = violence_array_rgb[i]\n",
    "    \n",
    "    ax.set_xlabel(Img_Pick.shape)\n",
    "    ax.imshow(Img_Pick)\n",
    "\n",
    "plt.tight_layout()\n",
    "plt.show()"
   ]
  },
  {
   "cell_type": "code",
   "execution_count": null,
   "metadata": {},
   "outputs": [],
   "source": [
    "figure,axis = plt.subplots(5,5,figsize=(12,12))\n",
    "\n",
    "for i,ax in enumerate(axis.flat):\n",
    "    \n",
    "    Img_Pick = violence_array_flow[i]\n",
    "    \n",
    "    ax.set_xlabel(Img_Pick.shape)\n",
    "    ax.imshow(Img_Pick)\n",
    "\n",
    "plt.tight_layout()\n",
    "plt.show()"
   ]
  },
  {
   "cell_type": "code",
   "execution_count": null,
   "metadata": {},
   "outputs": [],
   "source": [
    "figure,axis = plt.subplots(5,5,figsize=(12,12))\n",
    "for i,ax in enumerate(axis.flat):\n",
    "    \n",
    "    Img_Pick = non_violence_array_rgb[i]\n",
    "    \n",
    "    ax.set_xlabel(Img_Pick.shape)\n",
    "    ax.imshow(Img_Pick)\n",
    "\n",
    "plt.tight_layout()\n",
    "plt.show()"
   ]
  },
  {
   "cell_type": "code",
   "execution_count": null,
   "metadata": {},
   "outputs": [],
   "source": [
    "figure,axis = plt.subplots(5,5,figsize=(12,12))\n",
    "for i,ax in enumerate(axis.flat):\n",
    "        \n",
    "        Img_Pick = non_violence_array_flow[i]\n",
    "        \n",
    "        ax.set_xlabel(Img_Pick.shape)\n",
    "        ax.imshow(Img_Pick)\n",
    "    \n",
    "plt.tight_layout()\n",
    "plt.show()"
   ]
  }
 ],
 "metadata": {
  "kernelspec": {
   "display_name": "Python 3",
   "language": "python",
   "name": "python3"
  },
  "language_info": {
   "codemirror_mode": {
    "name": "ipython",
    "version": 3
   },
   "file_extension": ".py",
   "mimetype": "text/x-python",
   "name": "python",
   "nbconvert_exporter": "python",
   "pygments_lexer": "ipython3",
   "version": "3.9.0"
  },
  "orig_nbformat": 4,
  "vscode": {
   "interpreter": {
    "hash": "4cff3abf1678755e0069fd79299a535fe1940bcd71a6b01d9f4386710b2b163f"
   }
  }
 },
 "nbformat": 4,
 "nbformat_minor": 2
}
